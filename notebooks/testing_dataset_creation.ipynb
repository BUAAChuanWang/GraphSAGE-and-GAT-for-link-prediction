{
 "cells": [
  {
   "cell_type": "code",
   "execution_count": 15,
   "metadata": {},
   "outputs": [
    {
     "name": "stdout",
     "output_type": "stream",
     "text": [
      "The autoreload extension is already loaded. To reload it, use:\n",
      "  %reload_ext autoreload\n"
     ]
    }
   ],
   "source": [
    "import math\n",
    "import os\n",
    "import sys\n",
    "\n",
    "src_path = os.path.join(os.path.dirname(os.path.abspath('')), 'src')\n",
    "sys.path.append(src_path)\n",
    "\n",
    "import numpy as np\n",
    "import scipy.sparse as sp\n",
    "from sklearn.metrics import roc_auc_score\n",
    "import torch\n",
    "from torch.utils.data import DataLoader, Dataset\n",
    "\n",
    "from datasets.link_prediction import CollegeMsg\n",
    "import models\n",
    "\n",
    "%load_ext autoreload\n",
    "%autoreload 2\n",
    "\n",
    "np.random.seed(0)"
   ]
  },
  {
   "cell_type": "code",
   "execution_count": 30,
   "metadata": {},
   "outputs": [],
   "source": [
    "data_split = [0.85, 0.08, 0.02, 0.03]\n",
    "path = '/Users/raunak/Documents/Datasets/temporal-networks-snap/CollegeMsg.txt'\n",
    "mode = 'train'\n",
    "neg_examples_path = '/Users/raunak/Documents/Datasets/temporal-networks-snap/CollegeMsg_neg_examples_{}.txt'.format(mode)\n",
    "# neg_examples_path = ''"
   ]
  },
  {
   "cell_type": "code",
   "execution_count": 32,
   "metadata": {},
   "outputs": [
    {
     "name": "stdout",
     "output_type": "stream",
     "text": [
      "--------------------------------\n",
      "Reading CollegeMsg dataset from /Users/raunak/Documents/Datasets/temporal-networks-snap/CollegeMsg.txt\n",
      "Finished reading data.\n",
      "Setting up data structures.\n",
      "Finished setting up data structures.\n",
      "Setting up examples.\n",
      "Finished setting up examples.\n",
      "--------------------------------\n"
     ]
    }
   ],
   "source": [
    "d = CollegeMsg(path, neg_examples_path, mode, data_split=data_split)"
   ]
  },
  {
   "cell_type": "code",
   "execution_count": 33,
   "metadata": {},
   "outputs": [
    {
     "name": "stdout",
     "output_type": "stream",
     "text": [
      "--------------------------------\n",
      "Reading CollegeMsg dataset from /Users/raunak/Documents/Datasets/temporal-networks-snap/CollegeMsg.txt\n",
      "Finished reading data.\n",
      "Setting up data structures.\n",
      "Finished setting up data structures.\n",
      "Setting up examples.\n",
      "Finished setting up examples.\n",
      "--------------------------------\n",
      "--------------------------------\n",
      "Reading CollegeMsg dataset from /Users/raunak/Documents/Datasets/temporal-networks-snap/CollegeMsg.txt\n",
      "Finished reading data.\n",
      "Setting up data structures.\n",
      "Finished setting up data structures.\n",
      "Setting up examples.\n",
      "Finished setting up examples.\n",
      "--------------------------------\n"
     ]
    }
   ],
   "source": [
    "mode = 'val'\n",
    "neg_examples_path = '/Users/raunak/Documents/Datasets/temporal-networks-snap/CollegeMsg_neg_examples_{}.txt'.format(mode)\n",
    "# neg_examples_path = ''\n",
    "d_val = CollegeMsg(path, neg_examples_path, mode, data_split=data_split)\n",
    "mode = 'test'\n",
    "neg_examples_path = '/Users/raunak/Documents/Datasets/temporal-networks-snap/CollegeMsg_neg_examples_{}.txt'.format(mode)\n",
    "# neg_examples_path = ''\n",
    "d_test = CollegeMsg(path, neg_examples_path, mode, data_split=data_split)"
   ]
  },
  {
   "cell_type": "code",
   "execution_count": 34,
   "metadata": {},
   "outputs": [
    {
     "name": "stdout",
     "output_type": "stream",
     "text": [
      "7914\n",
      "2262\n",
      "3166\n"
     ]
    }
   ],
   "source": [
    "print(len(d))\n",
    "print(len(d_val))\n",
    "print(len(d_test))"
   ]
  },
  {
   "cell_type": "code",
   "execution_count": 5,
   "metadata": {},
   "outputs": [],
   "source": [
    "loader = DataLoader(dataset=d, batch_size=2, shuffle=False, collate_fn=d.collate_wrapper)"
   ]
  },
  {
   "cell_type": "code",
   "execution_count": 6,
   "metadata": {},
   "outputs": [
    {
     "name": "stdout",
     "output_type": "stream",
     "text": [
      "[array([   0,    1,    2,    5,    6,    7,   10,   12,   14,   19,   25,\n",
      "         26,   29,   31,   33,   38,   40,   41,   43,   47,   50,   51,\n",
      "         52,   55,   57,   58,   59,   60,   61,   62,   63,   65,   66,\n",
      "         67,   68,   69,   71,   72,   73,   74,   75,   80,   81,   83,\n",
      "         84,   85,   87,   89,   92,   96,   97,   98,  100,  102,  104,\n",
      "        107,  108,  113,  116,  118,  119,  121,  122,  123,  125,  126,\n",
      "        127,  131,  133,  134,  139,  143,  145,  146,  148,  150,  151,\n",
      "        153,  154,  156,  157,  162,  164,  165,  167,  171,  172,  173,\n",
      "        174,  175,  176,  182,  184,  187,  189,  190,  191,  193,  198,\n",
      "        200,  202,  203,  208,  209,  210,  211,  214,  219,  220,  223,\n",
      "        227,  232,  235,  236,  241,  243,  249,  250,  251,  253,  255,\n",
      "        259,  262,  264,  265,  266,  269,  271,  272,  273,  276,  277,\n",
      "        279,  280,  282,  283,  285,  287,  288,  290,  293,  295,  296,\n",
      "        297,  298,  299,  301,  302,  303,  304,  305,  307,  308,  310,\n",
      "        312,  313,  314,  315,  316,  317,  320,  322,  323,  324,  330,\n",
      "        331,  332,  334,  335,  336,  338,  342,  343,  344,  345,  347,\n",
      "        348,  349,  351,  352,  354,  357,  358,  359,  363,  364,  366,\n",
      "        367,  370,  371,  372,  374,  375,  377,  378,  381,  384,  385,\n",
      "        386,  387,  388,  390,  391,  392,  393,  395,  399,  400,  401,\n",
      "        403,  404,  406,  407,  408,  410,  411,  412,  415,  416,  417,\n",
      "        418,  419,  421,  427,  428,  430,  431,  432,  434,  435,  436,\n",
      "        438,  439,  440,  442,  443,  444,  445,  446,  447,  448,  449,\n",
      "        450,  451,  453,  455,  458,  459,  460,  461,  462,  463,  464,\n",
      "        465,  471,  472,  473,  474,  475,  478,  479,  480,  481,  482,\n",
      "        486,  487,  488,  489,  490,  494,  497,  498,  499,  500,  501,\n",
      "        502,  503,  505,  506,  507,  508,  511,  512,  513,  514,  516,\n",
      "        518,  519,  522,  524,  526,  527,  528,  529,  531,  533,  535,\n",
      "        537,  539,  540,  541,  542,  543,  544,  546,  547,  548,  549,\n",
      "        552,  553,  554,  555,  556,  559,  560,  561,  563,  565,  568,\n",
      "        569,  571,  572,  575,  576,  577,  578,  582,  583,  585,  586,\n",
      "        587,  589,  590,  591,  592,  593,  594,  595,  596,  597,  598,\n",
      "        599,  600,  602,  604,  606,  608,  612,  614,  615,  616,  620,\n",
      "        625,  626,  631,  634,  635,  637,  638,  639,  640,  641,  643,\n",
      "        644,  645,  648,  651,  653,  657,  658,  662,  672,  674,  675,\n",
      "        677,  678,  679,  680,  681,  682,  685,  686,  687,  696,  697,\n",
      "        698,  699,  700,  702,  703,  706,  707,  710,  711,  712,  720,\n",
      "        725,  726,  730,  733,  734,  736,  737,  738,  740,  742,  746,\n",
      "        752,  753,  756,  757,  758,  759,  760,  761,  764,  765,  766,\n",
      "        767,  768,  772,  773,  775,  780,  782,  783,  784,  787,  789,\n",
      "        791,  793,  794,  797,  798,  800,  801,  808,  814,  815,  816,\n",
      "        817,  818,  822,  824,  830,  831,  832,  834,  835,  838,  839,\n",
      "        840,  842,  843,  848,  851,  852,  858,  859,  861,  862,  863,\n",
      "        865,  867,  868,  871,  873,  880,  881,  885,  886,  887,  888,\n",
      "        889,  890,  891,  892,  893,  894,  895,  896,  897,  898,  899,\n",
      "        900,  901,  903,  904,  906,  907,  908,  909,  910,  912,  916,\n",
      "        918,  919,  921,  925,  927,  928,  929,  930,  931,  934,  935,\n",
      "        937,  939,  942,  947,  949,  951,  953,  954,  955,  956,  957,\n",
      "        960,  963,  966,  968,  970,  972,  973,  974,  977,  982,  984,\n",
      "        985,  986,  987,  989,  990,  991,  999, 1001, 1003, 1004, 1007,\n",
      "       1011, 1013, 1017, 1018, 1023, 1025, 1030, 1031, 1032, 1038, 1041,\n",
      "       1046, 1048, 1049, 1052, 1053, 1055, 1059, 1061, 1067, 1071, 1077,\n",
      "       1090, 1096, 1099, 1101, 1102, 1109, 1110, 1111, 1116, 1117, 1126,\n",
      "       1128, 1134, 1138, 1143, 1157, 1162, 1166, 1167, 1172, 1173, 1174,\n",
      "       1176, 1179, 1180, 1182, 1184, 1186, 1188, 1190, 1208, 1214, 1228,\n",
      "       1233, 1235, 1254, 1255]), array([ 513,  641,  387,    5,  638,  908,  399,  400, 1174,  280, 1176,\n",
      "       1053,   41,  554,  556,  686,  560,   50,  307,  955,  447,  320,\n",
      "         73,  589,  211,   83,  726,  349,  478,  480,   98,  102, 1128,\n",
      "       1003,  497,  371,  631,  249,  251,  508,  253,  126]), array([1128,  560,  908,  638])]\n"
     ]
    }
   ],
   "source": [
    "for (i, data) in enumerate(loader):\n",
    "    features, node_layers, mappings, rows, labels = data\n",
    "    print(node_layers)\n",
    "    break"
   ]
  },
  {
   "cell_type": "code",
   "execution_count": 14,
   "metadata": {},
   "outputs": [],
   "source": [
    "model = models.GraphSAGE(1260, [16], 1)"
   ]
  },
  {
   "cell_type": "code",
   "execution_count": 15,
   "metadata": {},
   "outputs": [],
   "source": [
    "out = model(features, node_layers, mappings, rows)"
   ]
  },
  {
   "cell_type": "code",
   "execution_count": 16,
   "metadata": {},
   "outputs": [
    {
     "name": "stdout",
     "output_type": "stream",
     "text": [
      "tensor([[0.2058],\n",
      "        [0.0686],\n",
      "        [0.0550],\n",
      "        [0.2118]], grad_fn=<AddmmBackward>) tensor([0, 1, 0, 0])\n"
     ]
    }
   ],
   "source": [
    "print(out, labels)"
   ]
  },
  {
   "cell_type": "code",
   "execution_count": 22,
   "metadata": {},
   "outputs": [
    {
     "name": "stdout",
     "output_type": "stream",
     "text": [
      "0.33333333333333337\n"
     ]
    }
   ],
   "source": [
    "with torch.no_grad():\n",
    "    area = roc_auc_score(labels.detach().numpy(), out.detach().numpy())\n",
    "    print(area)"
   ]
  },
  {
   "cell_type": "code",
   "execution_count": null,
   "metadata": {},
   "outputs": [],
   "source": []
  }
 ],
 "metadata": {
  "kernelspec": {
   "display_name": "Python 3",
   "language": "python",
   "name": "python3"
  },
  "language_info": {
   "codemirror_mode": {
    "name": "ipython",
    "version": 3
   },
   "file_extension": ".py",
   "mimetype": "text/x-python",
   "name": "python",
   "nbconvert_exporter": "python",
   "pygments_lexer": "ipython3",
   "version": "3.6.8"
  }
 },
 "nbformat": 4,
 "nbformat_minor": 2
}
