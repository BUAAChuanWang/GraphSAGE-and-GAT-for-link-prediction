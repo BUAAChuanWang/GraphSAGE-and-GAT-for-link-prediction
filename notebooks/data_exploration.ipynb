{
 "cells": [
  {
   "cell_type": "code",
   "execution_count": 1,
   "metadata": {},
   "outputs": [],
   "source": [
    "import math\n",
    "import os\n",
    "\n",
    "import matplotlib.pyplot as plt\n",
    "import numpy as np"
   ]
  },
  {
   "cell_type": "code",
   "execution_count": 2,
   "metadata": {},
   "outputs": [],
   "source": [
    "source = 'networkrepository'  # SNAP or networkrepository\n",
    "\n",
    "if source == 'SNAP':\n",
    "    data_dir = os.path.expanduser('~/Documents/Datasets/temporal-networks-snap')\n",
    "    name = 'CollegeMsg.txt'\n",
    "    path = os.path.join(data_dir, name)\n",
    "    with open(path, 'r') as f:\n",
    "        lines = f.readlines()\n",
    "\n",
    "    if name.endswith('tsv'):\n",
    "        separator = '\\t'\n",
    "        lines = np.array([line.split(separator)[:3] for line in lines[1:]], dtype=np.str)\n",
    "        vertex_id = {j : i for (i, j) in enumerate(lines.flatten())}\n",
    "        lines = np.array([vertex_id[v] for v in lines.flatten()]).reshape(lines.shape)\n",
    "        lines = np.array([[int(x) for x in line] for line in lines])\n",
    "    else:\n",
    "        if name.endswith('txt'):\n",
    "            separator = ' '\n",
    "        elif name.endswith('csv'):\n",
    "            separator = ','\n",
    "        lines = np.array([[int(x) for x in line.split(separator)[:3]] for line in lines])\n",
    "else:\n",
    "    data_dir = os.path.expanduser('~/Documents/Datasets/temporal-networks-network-repository')\n",
    "    name = 'ia-contact'\n",
    "    path = os.path.join(data_dir, name, name+'.edges')\n",
    "    with open(path, 'r') as f:\n",
    "        lines = f.readlines()\n",
    "        \n",
    "    if name == 'soc-sign-bitcoinalpha':\n",
    "        lines = np.loadtxt(path, delimiter=',', dtype=np.int64)\n",
    "        lines = np.concatenate((lines[:, :2], lines[:, 3:]), axis=1)\n",
    "    elif name == 'fb-forum' or name == 'ia-contacts_hypertext2009':\n",
    "        lines = np.loadtxt(path, delimiter=',', dtype=np.float64)\n",
    "        lines = np.array(lines, dtype=np.int64)\n",
    "    elif name == 'ia-contact':\n",
    "        lines = [line.split('\\t') for line in lines]\n",
    "        lines = [[*line[0].split(), line[1].split()[1]] for line in lines]\n",
    "        lines = np.array(lines, dtype=np.int64)\n",
    "    elif name == 'ia-enron-employees':\n",
    "        lines = [line.split() for line in lines]\n",
    "        lines = [[line[0], line[1], line[3]] for line in lines]\n",
    "        lines = np.array(lines, dtype=np.int64)\n",
    "    elif name == 'ia-radoslaw-email' or name == 'soc-wiki-elec':\n",
    "        lines = [line.split() for line in lines[2:]]\n",
    "        lines = [[line[0], line[1], line[3]] for line in lines]\n",
    "        lines = np.array(lines, dtype=np.int64)\n",
    "        \n",
    "lines = lines[lines[:, 2].argsort()]\n",
    "m = len(lines)"
   ]
  },
  {
   "cell_type": "code",
   "execution_count": 3,
   "metadata": {},
   "outputs": [
    {
     "name": "stdout",
     "output_type": "stream",
     "text": [
      "Split: 0.05, duplicate: 0.892, repeat: 0.275\n",
      "Split: 0.10, duplicate: 0.886, repeat: 0.338\n",
      "Split: 0.15, duplicate: 0.881, repeat: 0.376\n",
      "Split: 0.20, duplicate: 0.877, repeat: 0.461\n",
      "Split: 0.25, duplicate: 0.870, repeat: 0.512\n",
      "Split: 0.30, duplicate: 0.862, repeat: 0.554\n",
      "Split: 0.35, duplicate: 0.858, repeat: 0.608\n",
      "Split: 0.40, duplicate: 0.848, repeat: 0.630\n",
      "Split: 0.45, duplicate: 0.840, repeat: 0.655\n",
      "Split: 0.50, duplicate: 0.831, repeat: 0.670\n",
      "Split: 0.55, duplicate: 0.819, repeat: 0.675\n",
      "Split: 0.60, duplicate: 0.809, repeat: 0.684\n",
      "Split: 0.65, duplicate: 0.791, repeat: 0.718\n",
      "Split: 0.70, duplicate: 0.768, repeat: 0.749\n",
      "Split: 0.75, duplicate: 0.738, repeat: 0.769\n",
      "Split: 0.80, duplicate: 0.713, repeat: 0.777\n",
      "Split: 0.85, duplicate: 0.675, repeat: 0.832\n",
      "Split: 0.90, duplicate: 0.625, repeat: 0.839\n",
      "Split: 0.95, duplicate: 0.579, repeat: 0.830\n"
     ]
    }
   ],
   "source": [
    "duplicates, repeats = [], []\n",
    "splits = np.linspace(0.05, 0.95, 19)\n",
    "static_train = set()\n",
    "static_test = {(edge[0], edge[1]) for edge in lines}\n",
    "cur = 0\n",
    "for split in splits:\n",
    "    idx = math.ceil(split*m)\n",
    "    train, test = lines[:idx, :], lines[idx:, :]\n",
    "    \n",
    "    moving_edges = {(edge[0], edge[1]) for edge in lines[cur:idx]}\n",
    "    staying_edges = {(edge[0], edge[1]) for edge in lines[idx:]}\n",
    "    removals = moving_edges - staying_edges\n",
    "    \n",
    "    static_train.update(moving_edges)\n",
    "    static_test = static_test - removals\n",
    "    \n",
    "    cur = idx\n",
    "    \n",
    "    # Within the test split, what fraction of edges are duplicates? \n",
    "    duplicate = 1 - len(static_test) / len(test)\n",
    "    duplicates.append(duplicate)\n",
    "    \n",
    "    # What fraction of edges in the test split already exist in the train split?\n",
    "    repeat = np.sum([(edge in static_train) for edge in static_test]) / len(static_test)\n",
    "    repeats.append(repeat)\n",
    "    \n",
    "    print('Split: {:.2f}, duplicate: {:.3f}, repeat: {:.3f}'.format(split, duplicate, repeat))"
   ]
  },
  {
   "cell_type": "code",
   "execution_count": 4,
   "metadata": {},
   "outputs": [
    {
     "data": {
      "text/plain": [
       "[<matplotlib.lines.Line2D at 0x1056ed080>]"
      ]
     },
     "execution_count": 4,
     "metadata": {},
     "output_type": "execute_result"
    },
    {
     "data": {
      "image/png": "[encoded data removed]",
      "text/plain": [
       "<Figure size 432x288 with 1 Axes>"
      ]
     },
     "metadata": {
      "needs_background": "light"
     },
     "output_type": "display_data"
    }
   ],
   "source": [
    "plt.xlabel('Train split')\n",
    "plt.ylabel('Fraction of duplicates')\n",
    "plt.title('Duplicate edges within test set vs Split')\n",
    "plt.plot(splits, duplicates)"
   ]
  },
  {
   "cell_type": "code",
   "execution_count": 5,
   "metadata": {},
   "outputs": [
    {
     "data": {
      "text/plain": [
       "[<matplotlib.lines.Line2D at 0x1151466a0>]"
      ]
     },
     "execution_count": 5,
     "metadata": {},
     "output_type": "execute_result"
    },
    {
     "data": {
      "image/png": "[encoded data removed]",
      "text/plain": [
       "<Figure size 432x288 with 1 Axes>"
      ]
     },
     "metadata": {
      "needs_background": "light"
     },
     "output_type": "display_data"
    }
   ],
   "source": [
    "plt.xlabel('Train split')\n",
    "plt.ylabel('Fraction of repeats')\n",
    "plt.title('Repeated edges from train in test split vs Split')\n",
    "plt.plot(splits, repeats)"
   ]
  },
  {
   "cell_type": "code",
   "execution_count": null,
   "metadata": {},
   "outputs": [],
   "source": []
  }
 ],
 "metadata": {
  "kernelspec": {
   "display_name": "Python 3",
   "language": "python",
   "name": "python3"
  },
  "language_info": {
   "codemirror_mode": {
    "name": "ipython",
    "version": 3
   },
   "file_extension": ".py",
   "mimetype": "text/x-python",
   "name": "python",
   "nbconvert_exporter": "python",
   "pygments_lexer": "ipython3",
   "version": "3.6.8"
  }
 },
 "nbformat": 4,
 "nbformat_minor": 2
}
