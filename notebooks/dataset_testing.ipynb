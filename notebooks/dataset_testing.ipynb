{
 "cells": [
  {
   "cell_type": "markdown",
   "metadata": {},
   "source": [
    "# Imports"
   ]
  },
  {
   "cell_type": "code",
   "execution_count": 16,
   "metadata": {},
   "outputs": [
    {
     "name": "stdout",
     "output_type": "stream",
     "text": [
      "The autoreload extension is already loaded. To reload it, use:\n",
      "  %reload_ext autoreload\n"
     ]
    }
   ],
   "source": [
    "from math import ceil\n",
    "import json\n",
    "import os\n",
    "import sys\n",
    "\n",
    "src_path = os.path.join(os.path.dirname(os.path.abspath('')), 'src')\n",
    "sys.path.append(src_path)\n",
    "\n",
    "import matplotlib.pyplot as plt\n",
    "import numpy as np\n",
    "from torch.utils.data import DataLoader\n",
    "\n",
    "from datasets import link_prediction\n",
    "\n",
    "%load_ext autoreload\n",
    "%autoreload 2\n",
    "\n",
    "%matplotlib inline"
   ]
  },
  {
   "cell_type": "markdown",
   "metadata": {},
   "source": [
    "# Set up arguments for datasets, models and training."
   ]
  },
  {
   "cell_type": "code",
   "execution_count": 17,
   "metadata": {},
   "outputs": [],
   "source": [
    "args = {\n",
    "    \"task\" : \"link_prediction\",\n",
    "    \n",
    "    \"dataset\" : \"IAContact\",\n",
    "    \"dataset_path\" : \"/Users/raunak/Documents/Datasets/temporal-networks-network-repository/ia-contact/ia-contact.edges\",\n",
    "    \"mode\" : \"train\",\n",
    "    \"generate_neg_examples\" : False,\n",
    "    \n",
    "    \"duplicate_examples\" : True,\n",
    "    \"repeat_examples\" : True,\n",
    "    \n",
    "    \"self_loop\" : False,\n",
    "    \"normalize_adj\" : False,\n",
    "    \n",
    "    \"cuda\" : \"True\",\n",
    "    \"model\" : \"GraphSAGE\",\n",
    "    \"agg_class\" : \"MaxPoolAggregator\",\n",
    "    \"hidden_dims\" : [64],\n",
    "    \"dropout\" : 0.5,\n",
    "    \"num_samples\" : -1,\n",
    "    \n",
    "    \"epochs\" : 3,\n",
    "    \"batch_size\" : 32,\n",
    "    \"lr\" : 1e-4,\n",
    "    \"weight_decay\" : 5e-4,\n",
    "    \"stats_per_batch\" : 3,\n",
    "    \"visdom\" : False,\n",
    "    \n",
    "    \"load\" : False,\n",
    "    \"save\" : False\n",
    "}\n",
    "config = args\n",
    "config['num_layers'] = len(config['hidden_dims']) + 1\n",
    "\n",
    "\n",
    "if config['cuda'] and torch.cuda.is_available():\n",
    "    device = 'cuda:0'\n",
    "else:\n",
    "    device = 'cpu'\n",
    "config['device'] = device"
   ]
  },
  {
   "cell_type": "markdown",
   "metadata": {},
   "source": [
    "# Get the dataset, dataloader and model."
   ]
  },
  {
   "cell_type": "code",
   "execution_count": 18,
   "metadata": {},
   "outputs": [
    {
     "name": "stdout",
     "output_type": "stream",
     "text": [
      "--------------------------------\n",
      "Reading dataset from /Users/raunak/Documents/Datasets/temporal-networks-network-repository/ia-contact/ia-contact.edges\n",
      "Finished reading data.\n",
      "Setting up graph.\n",
      "Finished setting up graph.\n",
      "Setting up examples.\n",
      "Finished setting up examples.\n",
      "Dataset properties:\n",
      "Mode: train\n",
      "Number of vertices: 274\n",
      "Number of static edges: 1686\n",
      "Number of temporal edges: 8473\n",
      "Number of examples/datapoints: 11298\n",
      "--------------------------------\n"
     ]
    }
   ],
   "source": [
    "dataset_args = (config['task'], config['dataset'], config['dataset_path'],\n",
    "                config['generate_neg_examples'], 'train',\n",
    "                config['duplicate_examples'], config['repeat_examples'],\n",
    "                config['num_layers'], config['self_loop'],\n",
    "                config['normalize_adj'])\n",
    "dataset = utils.get_dataset(dataset_args)"
   ]
  },
  {
   "cell_type": "code",
   "execution_count": 19,
   "metadata": {},
   "outputs": [],
   "source": [
    "loader = DataLoader(dataset=dataset, batch_size=config['batch_size'],\n",
    "                    shuffle=True, collate_fn=dataset.collate_wrapper)\n",
    "input_dim, output_dim = dataset.get_dims()"
   ]
  },
  {
   "cell_type": "markdown",
   "metadata": {},
   "source": [
    "# Stuff"
   ]
  },
  {
   "cell_type": "code",
   "execution_count": 20,
   "metadata": {},
   "outputs": [],
   "source": [
    "node = 0\n",
    "nbrs = dataset.nbrs_s[node]\n",
    "timestamps = dataset.timestamps[node]"
   ]
  },
  {
   "cell_type": "code",
   "execution_count": 22,
   "metadata": {},
   "outputs": [
    {
     "name": "stdout",
     "output_type": "stream",
     "text": [
      "Last 2 times: 1.2308601250553888e-05, 1.2238703676506584e-05\n",
      "Last 2 times: 1.2327872085999236e-05, 1.2285766939001168e-05\n",
      "Last 2 times: 4.5479352374022196e-05, 1.3297872340425532e-05\n",
      "Last 2 times: 3.256904637832204e-05, 3.155868337172973e-05\n",
      "Last 2 times: 1.2606842994377348e-05, 1.2584156546907443e-05\n",
      "Last 2 times: 1.2461214469962243e-05, 1.2299366582620994e-05\n",
      "Last 2 times: 3.023705853894533e-05, 2.9787614309969916e-05\n",
      "Last 2 times: 4.376176097326157e-05, 1.3499831252109349e-05\n",
      "Last 2 times: 1.2889753934597388e-05, 1.2830217728794857e-05\n",
      "Last 2 times: 1.2326808342783887e-05, 1.2297097884899164e-05\n",
      "Last 2 times: 1.3010838028077389e-05, 1.2921232168699607e-05\n",
      "Last 2 times: 4.6448975800083605e-05, 4.540501271340356e-05\n",
      "Last 2 times: 1.2272197336933178e-05, 1.222135314822057e-05\n",
      "Last 2 times: 1.2272197336933178e-05, 1.2228377172065495e-05\n",
      "Last 2 times: 4.394831677946735e-05, 4.352367688022284e-05\n",
      "Last 2 times: 1.2606842994377348e-05, 1.229150534065907e-05\n",
      "Last 2 times: 1.229150534065907e-05, 1.222135314822057e-05\n",
      "Last 2 times: 4.2865103519225e-05, 1.2255502720721604e-05\n",
      "Last 2 times: 1.2329848096271454e-05, 1.2294830023974919e-05\n",
      "Last 2 times: 1.2710194847287009e-05, 1.2519248344329406e-05\n",
      "Last 2 times: 4.303111149360988e-05, 4.299965600275198e-05\n",
      "Last 2 times: 3.737200089692802e-05, 1.25208158563612e-05\n",
      "Last 2 times: 1.2437810945273631e-05, 1.2347813202281876e-05\n",
      "Last 2 times: 1.3998152243903804e-05, 1.2570552224359216e-05\n",
      "Last time: 4.3956043956043955e-05\n",
      "Last 2 times: 1.2300123001230013e-05, 1.2227031521287262e-05\n",
      "Last time: 3.914660403210022e-05\n",
      "Last time: 3.8229222417616025e-05\n",
      "Last 2 times: 1.2786088735455825e-05, 1.2746322685905116e-05\n",
      "Last 2 times: 1.2743723716069835e-05, 1.2665281929175743e-05\n",
      "Last 2 times: 1.229150534065907e-05, 1.2281994595922379e-05\n",
      "Last 2 times: 1.2367207113617532e-05, 1.2328936012822093e-05\n",
      "Last 2 times: 1.355785135171778e-05, 1.3389031705227079e-05\n",
      "Last 2 times: 1.3091575571119984e-05, 1.2238703676506584e-05\n",
      "Last 2 times: 1.3343474373857465e-05, 1.2991230919129587e-05\n",
      "Last 2 times: 1.2386508614816741e-05, 1.2329848096271454e-05\n",
      "Last 2 times: 1.2442453651860147e-05, 1.234796567265543e-05\n",
      "Last 2 times: 1.273268990806998e-05, 1.2726694241170856e-05\n",
      "Last 2 times: 1.2554454948338417e-05, 1.2478474631261075e-05\n",
      "Last 2 times: 1.2328936012822093e-05, 1.2272197336933178e-05\n",
      "Last 2 times: 1.2952528981283595e-05, 1.2732365673542144e-05\n",
      "Last 2 times: 1.2329848096271454e-05, 1.230981338322911e-05\n",
      "Last 2 times: 1.2422514565398328e-05, 1.2329848096271454e-05\n",
      "Last 2 times: 1.2354830738818879e-05, 1.2326808342783887e-05\n",
      "Last time: 1.2554454948338417e-05\n",
      "Last 2 times: 1.2503907471084714e-05, 1.229150534065907e-05\n",
      "Last 2 times: 4.3521782652217434e-05, 3.7213456385829117e-05\n"
     ]
    }
   ],
   "source": [
    "for nbr in nbrs:\n",
    "    times = timestamps[nbr]\n",
    "    if len(times) == 1:\n",
    "        print('Last time: {}'.format(times[-1]))\n",
    "    else:\n",
    "        print('Last 2 times: {}, {}'.format(times[-2], times[-1]))"
   ]
  },
  {
   "cell_type": "code",
   "execution_count": null,
   "metadata": {},
   "outputs": [],
   "source": []
  }
 ],
 "metadata": {
  "kernelspec": {
   "display_name": "Python 3",
   "language": "python",
   "name": "python3"
  },
  "language_info": {
   "codemirror_mode": {
    "name": "ipython",
    "version": 3
   },
   "file_extension": ".py",
   "mimetype": "text/x-python",
   "name": "python",
   "nbconvert_exporter": "python",
   "pygments_lexer": "ipython3",
   "version": "3.6.8"
  }
 },
 "nbformat": 4,
 "nbformat_minor": 2
}
